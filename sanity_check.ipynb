{
 "cells": [
  {
   "cell_type": "code",
   "execution_count": 1,
   "id": "1e657817",
   "metadata": {},
   "outputs": [],
   "source": [
    "import sys, os\n",
    "from configobj import ConfigObj\n",
    "from math import sqrt\n",
    "import numpy as np\n",
    "from astropy.io import fits\n",
    "from multicens import multiCens\n",
    "import matplotlib.pyplot as plt"
   ]
  },
  {
   "cell_type": "code",
   "execution_count": 2,
   "id": "aeaec6c4",
   "metadata": {},
   "outputs": [],
   "source": [
    "def distance(a,b):\n",
    "    return sqrt((a[0]-b[0])**2 + (a[1]-b[1])**2)"
   ]
  },
  {
   "cell_type": "code",
   "execution_count": 20,
   "id": "f1b9c73f",
   "metadata": {},
   "outputs": [],
   "source": [
    "def unpack_conf(filename):\n",
    "    config = ConfigObj(filename)\n",
    "    x = []\n",
    "    y = []\n",
    "    can_ids = []\n",
    "    for centroid in config.values():\n",
    "        x.append(float(centroid['x_coord']))\n",
    "        y.append(float(centroid['y_coord']))\n",
    "        can_ids.append(centroid['can_id'])\n",
    "    return x, y, can_ids"
   ]
  },
  {
   "cell_type": "code",
   "execution_count": 3,
   "id": "a5dfb33d",
   "metadata": {
    "scrolled": true
   },
   "outputs": [
    {
     "name": "stdout",
     "output_type": "stream",
     "text": [
      "[1356.9258284529265, 1356.9171204863217, 1356.9241778889, 1356.9279122143132, 1356.9170756011742, 1356.9186856381584, 1356.9158622759776, 1356.9182494784259, 1356.9314528552175, 1356.916680839679]\n",
      "[1696.4933960990677, 1696.4871394526383, 1696.5077718124587, 1696.4711678710182, 1696.4043654202637, 1696.49252645946, 1696.4638038465416, 1696.5192641801482, 1696.4796515264022, 1696.472012135119]\n",
      "0.005272103022887947 0.029693778271632613\n",
      "0.030158175314975957\n"
     ]
    }
   ],
   "source": [
    "def unpack_fiducial_conf(filename):\n",
    "    config = ConfigObj(filename)\n",
    "    fid_list = []\n",
    "    for fid in config.values():\n",
    "        fid_list.append([float(fid['x_coord']), float(fid['y_coord'])])\n",
    "    return sorted(fid_list, key=lambda x: x[0])\n",
    "\n",
    "frames = []\n",
    "directory = '/home/sharonye/DESI/lab_machine/trim/data/241017_062755_fiducial_calibration'\n",
    "for file in os.scandir(directory):\n",
    "    if file.path.endswith('fiducials.conf'):\n",
    "        frames.append(unpack_fiducial_conf(file.path))\n",
    "\n",
    "xs = []\n",
    "ys = []\n",
    "for frame in frames:\n",
    "    xs.append(frame[0][0])\n",
    "    ys.append(frame[0][1])\n",
    "print(xs)\n",
    "print(ys)\n",
    "print(np.std(xs), np.std(ys))\n",
    "print(sqrt(np.std(xs) ** 2 + np.std(ys) ** 2))"
   ]
  },
  {
   "cell_type": "code",
   "execution_count": 4,
   "id": "4c3768c1",
   "metadata": {},
   "outputs": [
    {
     "name": "stdout",
     "output_type": "stream",
     "text": [
      "[[1356.9258284529265, 1696.4933960990677], [1368.3444915996772, 1676.222356100144], [1376.1602903785072, 1694.1642031191845], [1383.7966315404897, 1711.9299164162883]]\n"
     ]
    }
   ],
   "source": [
    "fids = unpack_fiducial_conf('/home/sharonye/DESI/lab_machine/trim/data/241017_062755_fiducial_calibration/241017_062755_fiducials.conf')\n",
    "print(fids)"
   ]
  },
  {
   "cell_type": "code",
   "execution_count": 5,
   "id": "8782131c",
   "metadata": {},
   "outputs": [
    {
     "data": {
      "text/plain": [
       "51.537526695440306"
      ]
     },
     "execution_count": 5,
     "metadata": {},
     "output_type": "execute_result"
    }
   ],
   "source": [
    "def camera_scale_from_fiducial(fiducials):\n",
    "    dist_0_1 = distance(fiducials[0], fiducials[1]) # should be 1.2mm\n",
    "    dist_0_3 = distance(fiducials[0], fiducials[3]) # should be 1.6mm\n",
    "    dist_1_3 = distance(fiducials[1], fiducials[3]) # should be 2mm\n",
    "    return np.mean([1200/dist_0_1, 1600/dist_0_3, 2000/dist_1_3])\n",
    "\n",
    "camera_scale_from_fiducial(fids)"
   ]
  },
  {
   "cell_type": "code",
   "execution_count": 11,
   "id": "53242c85",
   "metadata": {},
   "outputs": [
    {
     "data": {
      "text/plain": [
       "[<matplotlib.lines.Line2D at 0x7fc8432cee00>]"
      ]
     },
     "execution_count": 11,
     "metadata": {},
     "output_type": "execute_result"
    },
    {
     "data": {
      "image/png": "[encoded data removed]",
      "text/plain": [
       "<Figure size 432x288 with 1 Axes>"
      ]
     },
     "metadata": {
      "needs_background": "light"
     },
     "output_type": "display_data"
    }
   ],
   "source": [
    "hdul = fits.open('/home/sharonye/DESI/lab_machine/trim/data/241024_062326_positioner_matching/centroids_zwo_241024_062328.fits')\n",
    "image = hdul[0].data\n",
    "X, Y, peaks, FWHM, _ = multicens.multiCens(image, n_centroids_to_keep=17, verbose=False, write_fits=False, size_fitbox=7)\n",
    "\n",
    "plt.plot(X, Y, 'o')"
   ]
  },
  {
   "cell_type": "code",
   "execution_count": 34,
   "id": "cce3a6e3",
   "metadata": {},
   "outputs": [
    {
     "data": {
      "text/plain": [
       "[<matplotlib.lines.Line2D at 0x7fc842159900>]"
      ]
     },
     "execution_count": 34,
     "metadata": {},
     "output_type": "execute_result"
    },
    {
     "data": {
      "image/png": "[encoded data removed]",
      "text/plain": [
       "<Figure size 432x288 with 1 Axes>"
      ]
     },
     "metadata": {
      "needs_background": "light"
     },
     "output_type": "display_data"
    }
   ],
   "source": [
    "im_b = fits.open('/home/sharonye/DESI/lab_machine/trim/data/241027_045108_positioner_matching/centroids_zwo_241027_045110.fits')[0].data\n",
    "im_a = fits.open('/home/sharonye/DESI/lab_machine/trim/data/241027_045108_positioner_matching/centroids_zwo_241027_045202.fits')[0].data\n",
    "\n",
    "x_b, y_b, p_b, f_b, _b = multicens.multiCens(im_b, n_centroids_to_keep=17, verbose=False, write_fits=False, size_fitbox=7)\n",
    "x_a, y_a, p_a, f_a, _a = multicens.multiCens(im_a, n_centroids_to_keep=17, verbose=False, write_fits=False, size_fitbox=7)\n",
    "\n",
    "plt.plot(x_b, y_b, 'bo')\n",
    "plt.plot(x_a, y_a, 'ro')"
   ]
  },
  {
   "cell_type": "code",
   "execution_count": 29,
   "id": "657e065e",
   "metadata": {},
   "outputs": [
    {
     "data": {
      "image/png": "[encoded data removed]",
      "text/plain": [
       "<Figure size 432x288 with 1 Axes>"
      ]
     },
     "metadata": {
      "needs_background": "light"
     },
     "output_type": "display_data"
    }
   ],
   "source": [
    "X, Y, ids = unpack_conf('/home/sharonye/DESI/lab_machine/trim/data/241027_045108_positioner_matching/positioners.conf')\n",
    "fig, ax = plt.subplots()\n",
    "ax.plot(X, Y, 'o')\n",
    "for i, label in enumerate(ids):\n",
    "    ax.text(X[i], Y[i], label)"
   ]
  },
  {
   "cell_type": "code",
   "execution_count": 39,
   "id": "86aa3807",
   "metadata": {},
   "outputs": [
    {
     "data": {
      "image/png": "[encoded data removed]",
      "text/plain": [
       "<Figure size 432x288 with 1 Axes>"
      ]
     },
     "metadata": {
      "needs_background": "light"
     },
     "output_type": "display_data"
    }
   ],
   "source": [
    "X, Y, ids = unpack_conf('/home/sharonye/DESI/lab_machine/trim/data/241027_065258_positioner_matching/positioners.conf')\n",
    "fig, ax = plt.subplots()\n",
    "ax.plot(X, Y, 'o')\n",
    "for i, label in enumerate(ids):\n",
    "    ax.text(X[i], Y[i], label)"
   ]
  },
  {
   "cell_type": "code",
   "execution_count": 40,
   "id": "cc6c32f1",
   "metadata": {},
   "outputs": [
    {
     "name": "stdout",
     "output_type": "stream",
     "text": [
      "peak = 85448.93526051767 brightness appears out of expected range\n",
      "peak = 97585.81251408171 brightness appears out of expected range\n",
      "peak = 70816.4466304986 brightness appears out of expected range\n",
      "peak = 66548.58269725139 brightness appears out of expected range\n",
      "peak = 85403.87828180812 brightness appears out of expected range\n",
      "peak = 97822.90751117568 brightness appears out of expected range\n",
      "peak = 70877.72438284577 brightness appears out of expected range\n",
      "peak = 66508.86274907594 brightness appears out of expected range\n"
     ]
    },
    {
     "data": {
      "text/plain": [
       "[<matplotlib.lines.Line2D at 0x7fc8414e7730>]"
      ]
     },
     "execution_count": 40,
     "metadata": {},
     "output_type": "execute_result"
    },
    {
     "data": {
      "image/png": "[encoded data removed]",
      "text/plain": [
       "<Figure size 432x288 with 1 Axes>"
      ]
     },
     "metadata": {
      "needs_background": "light"
     },
     "output_type": "display_data"
    }
   ],
   "source": [
    "im_b = fits.open('/home/sharonye/DESI/lab_machine/trim/data/241027_065258_positioner_matching/centroids_zwo_241027_065300.fits')[0].data\n",
    "im_a = fits.open('/home/sharonye/DESI/lab_machine/trim/data/241027_065258_positioner_matching/centroids_zwo_241027_065354.fits')[0].data\n",
    "\n",
    "x_b, y_b, p_b, f_b, _b = multicens.multiCens(im_b, n_centroids_to_keep=17, verbose=False, write_fits=False, size_fitbox=7)\n",
    "x_a, y_a, p_a, f_a, _a = multicens.multiCens(im_a, n_centroids_to_keep=17, verbose=False, write_fits=False, size_fitbox=7)\n",
    "\n",
    "plt.plot(x_b, y_b, 'bo')\n",
    "plt.plot(x_a, y_a, 'ro')"
   ]
  },
  {
   "cell_type": "code",
   "execution_count": null,
   "id": "8e876eb3",
   "metadata": {},
   "outputs": [],
   "source": []
  }
 ],
 "metadata": {
  "kernelspec": {
   "display_name": "Python 3 (ipykernel)",
   "language": "python",
   "name": "python3"
  },
  "language_info": {
   "codemirror_mode": {
    "name": "ipython",
    "version": 3
   },
   "file_extension": ".py",
   "mimetype": "text/x-python",
   "name": "python",
   "nbconvert_exporter": "python",
   "pygments_lexer": "ipython3",
   "version": "3.10.12"
  }
 },
 "nbformat": 4,
 "nbformat_minor": 5
}
