{
 "cells": [
  {
   "cell_type": "code",
   "execution_count": 115,
   "id": "1e657817",
   "metadata": {},
   "outputs": [],
   "source": [
    "import sys, os\n",
    "from configobj import ConfigObj\n",
    "from math import sqrt\n",
    "import numpy as np\n",
    "from astropy.io import fits\n",
    "from multicens import multiCens\n",
    "import matplotlib.pyplot as plt"
   ]
  },
  {
   "cell_type": "code",
   "execution_count": 107,
   "id": "aeaec6c4",
   "metadata": {},
   "outputs": [],
   "source": [
    "def distance(a,b):\n",
    "    return sqrt((a[0]-b[0])**2 + (a[1]-b[1])**2)"
   ]
  },
  {
   "cell_type": "code",
   "execution_count": 163,
   "id": "a5dfb33d",
   "metadata": {},
   "outputs": [
    {
     "name": "stdout",
     "output_type": "stream",
     "text": [
      "[1356.9133713885124, 1356.9127451521724, 1356.923354995318, 1356.9062040231888, 1356.900410625757, 1356.9046743527583, 1356.8998326685926, 1356.8848509679274, 1356.9117277466155, 1356.9202633380967]\n",
      "[1696.4935762959037, 1696.5113203611097, 1696.4816698263564, 1696.503719839208, 1696.453207279379, 1696.463560984641, 1696.4963116248184, 1696.4360496058366, 1696.5019224607693, 1696.5111265754313]\n",
      "0.010607728235764358 0.024679341923308343\n",
      "0.02686249832185006\n"
     ]
    }
   ],
   "source": [
    "frames = []\n",
    "directory = '/home/sharonye/DESI/lab_machine/trim/data'\n",
    "for file in os.scandir(directory):\n",
    "    if file.path.endswith('fiducials.conf'):\n",
    "        frames.append(unpack_fiducial_conf(file.path))\n",
    "\n",
    "xs = []\n",
    "ys = []\n",
    "for frame in frames:\n",
    "    xs.append(frame[0][0])\n",
    "    ys.append(frame[0][1])\n",
    "print(xs)\n",
    "print(ys)\n",
    "print(np.std(xs), np.std(ys))\n",
    "print(sqrt(np.std(xs) ** 2 + np.std(ys) ** 2))"
   ]
  },
  {
   "cell_type": "code",
   "execution_count": 155,
   "id": "4c3768c1",
   "metadata": {},
   "outputs": [
    {
     "name": "stdout",
     "output_type": "stream",
     "text": [
      "[[1356.9258284529265, 1696.4933960990677], [1368.3444915996772, 1676.222356100144], [1376.1602903785072, 1694.1642031191845], [1383.7966315404897, 1711.9299164162883]]\n"
     ]
    }
   ],
   "source": [
    "def unpack_fiducial_conf(filename):\n",
    "    config = ConfigObj(filename)\n",
    "    fid_list = []\n",
    "    for fid in config.values():\n",
    "        fid_list.append([float(fid['x_coord']), float(fid['y_coord'])])\n",
    "    return sorted(fid_list, key=lambda x: x[0])\n",
    "\n",
    "fids = unpack_fiducial_conf('/home/sharonye/DESI/lab_machine/trim/data/241017_062755_fiducials.conf')\n",
    "print(fids)"
   ]
  },
  {
   "cell_type": "code",
   "execution_count": 110,
   "id": "8782131c",
   "metadata": {},
   "outputs": [
    {
     "data": {
      "text/plain": [
       "51.537526695440306"
      ]
     },
     "execution_count": 110,
     "metadata": {},
     "output_type": "execute_result"
    }
   ],
   "source": [
    "def camera_scale_from_fiducial(fiducials):\n",
    "    dist_0_1 = distance(fiducials[0], fiducials[1]) # should be 1.2mm\n",
    "    dist_0_3 = distance(fiducials[0], fiducials[3]) # should be 1.6mm\n",
    "    dist_1_3 = distance(fiducials[1], fiducials[3]) # should be 2mm\n",
    "    return np.mean([1200/dist_0_1, 1600/dist_0_3, 2000/dist_1_3])\n",
    "\n",
    "camera_scale_from_fiducial(fids)"
   ]
  },
  {
   "cell_type": "code",
   "execution_count": 111,
   "id": "b142d59a",
   "metadata": {},
   "outputs": [
    {
     "name": "stdout",
     "output_type": "stream",
     "text": [
      "Edge hot spot\n"
     ]
    }
   ],
   "source": [
    "hdul = fits.open('/home/sharonye/DESI/lab_machine/trim/data/centroids_zwo_241015_052053.fits')\n",
    "image = hdul[0].data\n",
    "X, Y, peaks, FWHM, _ = multicens.multiCens(image, n_centroids_to_keep=17, verbose=False, write_fits=False, size_fitbox=7)"
   ]
  },
  {
   "cell_type": "code",
   "execution_count": 113,
   "id": "53242c85",
   "metadata": {},
   "outputs": [
    {
     "data": {
      "text/plain": [
       "[<matplotlib.lines.Line2D at 0x7ff370526470>]"
      ]
     },
     "execution_count": 113,
     "metadata": {},
     "output_type": "execute_result"
    },
    {
     "data": {
      "image/png": "[encoded data removed]",
      "text/plain": [
       "<Figure size 432x288 with 1 Axes>"
      ]
     },
     "metadata": {
      "needs_background": "light"
     },
     "output_type": "display_data"
    }
   ],
   "source": [
    "centroids = list(zip(X,Y))\n",
    "pos_centroids = []\n",
    "for centroid in centroids:\n",
    "    if centroid[0] > 1330 and centroid[0] < 1400 and centroid[1] > 1660 and centroid[1] < 1730:\n",
    "        pass\n",
    "    else:\n",
    "        pos_centroids.append(centroid)\n",
    "plt.plot(X, Y, 'o')"
   ]
  },
  {
   "cell_type": "code",
   "execution_count": 151,
   "id": "f1b9c73f",
   "metadata": {},
   "outputs": [
    {
     "name": "stdout",
     "output_type": "stream",
     "text": [
      "[]\n"
     ]
    }
   ],
   "source": [
    "def unpack_conf(filename):\n",
    "    config = ConfigObj(filename)\n",
    "    centroid_list = []\n",
    "    for centroid in config.values():\n",
    "        centroid_list.append([float(centroid['x_coord']), float(centroid['y_coord'])])\n",
    "    return centroid_list\n",
    "\n",
    "centroids_before = unpack_conf('/home/sharonye/DESI/lab_machine/trim/data/241017_062755_fiducials.conf')\n",
    "centroids_after = unpack_conf('/home/sharonye/DESI/lab_machine/trim/data/241017_062821_fiducials.conf')\n",
    "\n",
    "def find_moved(centroids_before, centroids_after):\n",
    "    moved = []\n",
    "    for after in centroids_after:\n",
    "        #print('\\n', after)\n",
    "        match = False\n",
    "        for before in centroids_before:\n",
    "            #print(before)\n",
    "            if distance(before, after) < .1:\n",
    "                match = True\n",
    "                break\n",
    "        if not match:\n",
    "            moved.append(after)\n",
    "    return moved\n",
    "\n",
    "print(find_moved(centroids_before, centroids_after))\n",
    "# for centroid in centroids_before:\n",
    "#     plt.plot(centroid[0], centroid[1], 'bo')\n",
    "# for centroid in centroids_after:\n",
    "#     plt.plot(centroid[0], centroid[1], 'ro')"
   ]
  },
  {
   "cell_type": "code",
   "execution_count": null,
   "id": "cce3a6e3",
   "metadata": {},
   "outputs": [],
   "source": []
  }
 ],
 "metadata": {
  "kernelspec": {
   "display_name": "Python 3 (ipykernel)",
   "language": "python",
   "name": "python3"
  },
  "language_info": {
   "codemirror_mode": {
    "name": "ipython",
    "version": 3
   },
   "file_extension": ".py",
   "mimetype": "text/x-python",
   "name": "python",
   "nbconvert_exporter": "python",
   "pygments_lexer": "ipython3",
   "version": "3.10.12"
  }
 },
 "nbformat": 4,
 "nbformat_minor": 5
}
