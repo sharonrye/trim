{
 "cells": [
  {
   "cell_type": "code",
   "execution_count": 1,
   "id": "1e657817",
   "metadata": {},
   "outputs": [],
   "source": [
    "import sys, os\n",
    "from configobj import ConfigObj\n",
    "from math import sqrt\n",
    "import numpy as np\n",
    "from astropy.io import fits\n",
    "from multicens import multiCens\n",
    "import matplotlib.pyplot as plt\n",
    "from circle_fit import standardLSQ"
   ]
  },
  {
   "cell_type": "code",
   "execution_count": 2,
   "id": "aeaec6c4",
   "metadata": {},
   "outputs": [],
   "source": [
    "def distance(a,b):\n",
    "    return sqrt((a[0]-b[0])**2 + (a[1]-b[1])**2)"
   ]
  },
  {
   "cell_type": "code",
   "execution_count": 12,
   "id": "f1b9c73f",
   "metadata": {},
   "outputs": [],
   "source": [
    "def unpack_conf(filename):\n",
    "    config = ConfigObj(filename)\n",
    "    x = []\n",
    "    y = []\n",
    "    can_ids = []\n",
    "    for centroid in config.values():\n",
    "        x.append(float(centroid['x_coord']))\n",
    "        y.append(float(centroid['y_coord']))\n",
    "        can_ids.append(centroid['can_id'])\n",
    "    return x, y, can_ids"
   ]
  },
  {
   "cell_type": "code",
   "execution_count": 5,
   "id": "a5dfb33d",
   "metadata": {
    "scrolled": true
   },
   "outputs": [
    {
     "name": "stdout",
     "output_type": "stream",
     "text": [
      "[1356.9258284529265, 1356.9171204863217, 1356.9241778889, 1356.9279122143132, 1356.9170756011742, 1356.9186856381584, 1356.9158622759776, 1356.9182494784259, 1356.9314528552175, 1356.916680839679]\n",
      "[1696.4933960990677, 1696.4871394526383, 1696.5077718124587, 1696.4711678710182, 1696.4043654202637, 1696.49252645946, 1696.4638038465416, 1696.5192641801482, 1696.4796515264022, 1696.472012135119]\n",
      "0.005272103022887947 0.029693778271632613\n",
      "0.030158175314975957\n"
     ]
    }
   ],
   "source": [
    "def unpack_fiducial_conf(filename):\n",
    "    config = ConfigObj(filename)\n",
    "    fid_list = []\n",
    "    for fid in config.values():\n",
    "        fid_list.append([float(fid['x_coord']), float(fid['y_coord'])])\n",
    "    return sorted(fid_list, key=lambda x: x[0])\n",
    "\n",
    "frames = []\n",
    "directory = '/home/sharonye/DESI/lab_machine/trim/data/241017_062755_fiducial_calibration'\n",
    "for file in os.scandir(directory):\n",
    "    if file.path.endswith('fiducials.conf'):\n",
    "        frames.append(unpack_fiducial_conf(file.path))\n",
    "\n",
    "xs = []\n",
    "ys = []\n",
    "for frame in frames:\n",
    "    xs.append(frame[0][0])\n",
    "    ys.append(frame[0][1])\n",
    "print(xs)\n",
    "print(ys)\n",
    "print(np.std(xs), np.std(ys))\n",
    "print(sqrt(np.std(xs) ** 2 + np.std(ys) ** 2))"
   ]
  },
  {
   "cell_type": "code",
   "execution_count": 6,
   "id": "4c3768c1",
   "metadata": {},
   "outputs": [
    {
     "name": "stdout",
     "output_type": "stream",
     "text": [
      "[[1356.9258284529265, 1696.4933960990677], [1368.3444915996772, 1676.222356100144], [1376.1602903785072, 1694.1642031191845], [1383.7966315404897, 1711.9299164162883]]\n"
     ]
    }
   ],
   "source": [
    "fids = unpack_fiducial_conf('/home/sharonye/DESI/lab_machine/trim/data/241017_062755_fiducial_calibration/241017_062755_fiducials.conf')\n",
    "print(fids)"
   ]
  },
  {
   "cell_type": "code",
   "execution_count": 7,
   "id": "8782131c",
   "metadata": {},
   "outputs": [
    {
     "data": {
      "text/plain": [
       "51.537526695440306"
      ]
     },
     "execution_count": 7,
     "metadata": {},
     "output_type": "execute_result"
    }
   ],
   "source": [
    "def camera_scale_from_fiducial(fiducials):\n",
    "    dist_0_1 = distance(fiducials[0], fiducials[1]) # should be 1.2mm\n",
    "    dist_0_3 = distance(fiducials[0], fiducials[3]) # should be 1.6mm\n",
    "    dist_1_3 = distance(fiducials[1], fiducials[3]) # should be 2mm\n",
    "    return np.mean([1200/dist_0_1, 1600/dist_0_3, 2000/dist_1_3])\n",
    "\n",
    "camera_scale_from_fiducial(fids)"
   ]
  },
  {
   "cell_type": "code",
   "execution_count": 8,
   "id": "53242c85",
   "metadata": {},
   "outputs": [
    {
     "ename": "FileNotFoundError",
     "evalue": "[Errno 2] No such file or directory: '/home/sharonye/DESI/lab_machine/trim/data/241024_062326_positioner_matching/centroids_zwo_241024_062328.fits'",
     "output_type": "error",
     "traceback": [
      "\u001b[0;31m---------------------------------------------------------------------------\u001b[0m",
      "\u001b[0;31mFileNotFoundError\u001b[0m                         Traceback (most recent call last)",
      "\u001b[0;32m/tmp/ipykernel_95/1709099067.py\u001b[0m in \u001b[0;36m<module>\u001b[0;34m\u001b[0m\n\u001b[0;32m----> 1\u001b[0;31m \u001b[0mhdul\u001b[0m \u001b[0;34m=\u001b[0m \u001b[0mfits\u001b[0m\u001b[0;34m.\u001b[0m\u001b[0mopen\u001b[0m\u001b[0;34m(\u001b[0m\u001b[0;34m'/home/sharonye/DESI/lab_machine/trim/data/241024_062326_positioner_matching/centroids_zwo_241024_062328.fits'\u001b[0m\u001b[0;34m)\u001b[0m\u001b[0;34m\u001b[0m\u001b[0;34m\u001b[0m\u001b[0m\n\u001b[0m\u001b[1;32m      2\u001b[0m \u001b[0mimage\u001b[0m \u001b[0;34m=\u001b[0m \u001b[0mhdul\u001b[0m\u001b[0;34m[\u001b[0m\u001b[0;36m0\u001b[0m\u001b[0;34m]\u001b[0m\u001b[0;34m.\u001b[0m\u001b[0mdata\u001b[0m\u001b[0;34m\u001b[0m\u001b[0;34m\u001b[0m\u001b[0m\n\u001b[1;32m      3\u001b[0m \u001b[0mX\u001b[0m\u001b[0;34m,\u001b[0m \u001b[0mY\u001b[0m\u001b[0;34m,\u001b[0m \u001b[0mpeaks\u001b[0m\u001b[0;34m,\u001b[0m \u001b[0mFWHM\u001b[0m\u001b[0;34m,\u001b[0m \u001b[0m_\u001b[0m \u001b[0;34m=\u001b[0m \u001b[0mmulticens\u001b[0m\u001b[0;34m.\u001b[0m\u001b[0mmultiCens\u001b[0m\u001b[0;34m(\u001b[0m\u001b[0mimage\u001b[0m\u001b[0;34m,\u001b[0m \u001b[0mn_centroids_to_keep\u001b[0m\u001b[0;34m=\u001b[0m\u001b[0;36m17\u001b[0m\u001b[0;34m,\u001b[0m \u001b[0mverbose\u001b[0m\u001b[0;34m=\u001b[0m\u001b[0;32mFalse\u001b[0m\u001b[0;34m,\u001b[0m \u001b[0mwrite_fits\u001b[0m\u001b[0;34m=\u001b[0m\u001b[0;32mFalse\u001b[0m\u001b[0;34m,\u001b[0m \u001b[0msize_fitbox\u001b[0m\u001b[0;34m=\u001b[0m\u001b[0;36m7\u001b[0m\u001b[0;34m)\u001b[0m\u001b[0;34m\u001b[0m\u001b[0;34m\u001b[0m\u001b[0m\n\u001b[1;32m      4\u001b[0m \u001b[0;34m\u001b[0m\u001b[0m\n\u001b[1;32m      5\u001b[0m \u001b[0mplt\u001b[0m\u001b[0;34m.\u001b[0m\u001b[0mplot\u001b[0m\u001b[0;34m(\u001b[0m\u001b[0mX\u001b[0m\u001b[0;34m,\u001b[0m \u001b[0mY\u001b[0m\u001b[0;34m,\u001b[0m \u001b[0;34m'o'\u001b[0m\u001b[0;34m)\u001b[0m\u001b[0;34m\u001b[0m\u001b[0;34m\u001b[0m\u001b[0m\n",
      "\u001b[0;32m~/.local/lib/python3.10/site-packages/astropy/io/fits/hdu/hdulist.py\u001b[0m in \u001b[0;36mfitsopen\u001b[0;34m(name, mode, memmap, save_backup, cache, lazy_load_hdus, ignore_missing_simple, use_fsspec, fsspec_kwargs, decompress_in_memory, **kwargs)\u001b[0m\n\u001b[1;32m    221\u001b[0m         \u001b[0;32mraise\u001b[0m \u001b[0mValueError\u001b[0m\u001b[0;34m(\u001b[0m\u001b[0;34mf\"Empty filename: {name!r}\"\u001b[0m\u001b[0;34m)\u001b[0m\u001b[0;34m\u001b[0m\u001b[0;34m\u001b[0m\u001b[0m\n\u001b[1;32m    222\u001b[0m \u001b[0;34m\u001b[0m\u001b[0m\n\u001b[0;32m--> 223\u001b[0;31m     return HDUList.fromfile(\n\u001b[0m\u001b[1;32m    224\u001b[0m         \u001b[0mname\u001b[0m\u001b[0;34m,\u001b[0m\u001b[0;34m\u001b[0m\u001b[0;34m\u001b[0m\u001b[0m\n\u001b[1;32m    225\u001b[0m         \u001b[0mmode\u001b[0m\u001b[0;34m,\u001b[0m\u001b[0;34m\u001b[0m\u001b[0;34m\u001b[0m\u001b[0m\n",
      "\u001b[0;32m~/.local/lib/python3.10/site-packages/astropy/io/fits/hdu/hdulist.py\u001b[0m in \u001b[0;36mfromfile\u001b[0;34m(cls, fileobj, mode, memmap, save_backup, cache, lazy_load_hdus, ignore_missing_simple, **kwargs)\u001b[0m\n\u001b[1;32m    485\u001b[0m         documentation for details of the parameters accepted by this method).\n\u001b[1;32m    486\u001b[0m         \"\"\"\n\u001b[0;32m--> 487\u001b[0;31m         return cls._readfrom(\n\u001b[0m\u001b[1;32m    488\u001b[0m             \u001b[0mfileobj\u001b[0m\u001b[0;34m=\u001b[0m\u001b[0mfileobj\u001b[0m\u001b[0;34m,\u001b[0m\u001b[0;34m\u001b[0m\u001b[0;34m\u001b[0m\u001b[0m\n\u001b[1;32m    489\u001b[0m             \u001b[0mmode\u001b[0m\u001b[0;34m=\u001b[0m\u001b[0mmode\u001b[0m\u001b[0;34m,\u001b[0m\u001b[0;34m\u001b[0m\u001b[0;34m\u001b[0m\u001b[0m\n",
      "\u001b[0;32m~/.local/lib/python3.10/site-packages/astropy/io/fits/hdu/hdulist.py\u001b[0m in \u001b[0;36m_readfrom\u001b[0;34m(cls, fileobj, data, mode, memmap, cache, lazy_load_hdus, ignore_missing_simple, use_fsspec, fsspec_kwargs, decompress_in_memory, **kwargs)\u001b[0m\n\u001b[1;32m   1167\u001b[0m             \u001b[0;32mif\u001b[0m \u001b[0;32mnot\u001b[0m \u001b[0misinstance\u001b[0m\u001b[0;34m(\u001b[0m\u001b[0mfileobj\u001b[0m\u001b[0;34m,\u001b[0m \u001b[0m_File\u001b[0m\u001b[0;34m)\u001b[0m\u001b[0;34m:\u001b[0m\u001b[0;34m\u001b[0m\u001b[0;34m\u001b[0m\u001b[0m\n\u001b[1;32m   1168\u001b[0m                 \u001b[0;31m# instantiate a FITS file object (ffo)\u001b[0m\u001b[0;34m\u001b[0m\u001b[0;34m\u001b[0m\u001b[0m\n\u001b[0;32m-> 1169\u001b[0;31m                 fileobj = _File(\n\u001b[0m\u001b[1;32m   1170\u001b[0m                     \u001b[0mfileobj\u001b[0m\u001b[0;34m,\u001b[0m\u001b[0;34m\u001b[0m\u001b[0;34m\u001b[0m\u001b[0m\n\u001b[1;32m   1171\u001b[0m                     \u001b[0mmode\u001b[0m\u001b[0;34m=\u001b[0m\u001b[0mmode\u001b[0m\u001b[0;34m,\u001b[0m\u001b[0;34m\u001b[0m\u001b[0;34m\u001b[0m\u001b[0m\n",
      "\u001b[0;32m~/.local/lib/python3.10/site-packages/astropy/io/fits/file.py\u001b[0m in \u001b[0;36m__init__\u001b[0;34m(self, fileobj, mode, memmap, overwrite, cache, use_fsspec, fsspec_kwargs, decompress_in_memory)\u001b[0m\n\u001b[1;32m    216\u001b[0m             \u001b[0mself\u001b[0m\u001b[0;34m.\u001b[0m\u001b[0m_open_fileobj\u001b[0m\u001b[0;34m(\u001b[0m\u001b[0mfileobj\u001b[0m\u001b[0;34m,\u001b[0m \u001b[0mmode\u001b[0m\u001b[0;34m,\u001b[0m \u001b[0moverwrite\u001b[0m\u001b[0;34m)\u001b[0m\u001b[0;34m\u001b[0m\u001b[0;34m\u001b[0m\u001b[0m\n\u001b[1;32m    217\u001b[0m         \u001b[0;32melif\u001b[0m \u001b[0misinstance\u001b[0m\u001b[0;34m(\u001b[0m\u001b[0mfileobj\u001b[0m\u001b[0;34m,\u001b[0m \u001b[0;34m(\u001b[0m\u001b[0mstr\u001b[0m\u001b[0;34m,\u001b[0m \u001b[0mbytes\u001b[0m\u001b[0;34m)\u001b[0m\u001b[0;34m)\u001b[0m\u001b[0;34m:\u001b[0m\u001b[0;34m\u001b[0m\u001b[0;34m\u001b[0m\u001b[0m\n\u001b[0;32m--> 218\u001b[0;31m             \u001b[0mself\u001b[0m\u001b[0;34m.\u001b[0m\u001b[0m_open_filename\u001b[0m\u001b[0;34m(\u001b[0m\u001b[0mfileobj\u001b[0m\u001b[0;34m,\u001b[0m \u001b[0mmode\u001b[0m\u001b[0;34m,\u001b[0m \u001b[0moverwrite\u001b[0m\u001b[0;34m)\u001b[0m\u001b[0;34m\u001b[0m\u001b[0;34m\u001b[0m\u001b[0m\n\u001b[0m\u001b[1;32m    219\u001b[0m         \u001b[0;32melse\u001b[0m\u001b[0;34m:\u001b[0m\u001b[0;34m\u001b[0m\u001b[0;34m\u001b[0m\u001b[0m\n\u001b[1;32m    220\u001b[0m             \u001b[0mself\u001b[0m\u001b[0;34m.\u001b[0m\u001b[0m_open_filelike\u001b[0m\u001b[0;34m(\u001b[0m\u001b[0mfileobj\u001b[0m\u001b[0;34m,\u001b[0m \u001b[0mmode\u001b[0m\u001b[0;34m,\u001b[0m \u001b[0moverwrite\u001b[0m\u001b[0;34m)\u001b[0m\u001b[0;34m\u001b[0m\u001b[0;34m\u001b[0m\u001b[0m\n",
      "\u001b[0;32m~/.local/lib/python3.10/site-packages/astropy/io/fits/file.py\u001b[0m in \u001b[0;36m_open_filename\u001b[0;34m(self, filename, mode, overwrite)\u001b[0m\n\u001b[1;32m    649\u001b[0m \u001b[0;34m\u001b[0m\u001b[0m\n\u001b[1;32m    650\u001b[0m         \u001b[0;32mif\u001b[0m \u001b[0;32mnot\u001b[0m \u001b[0mself\u001b[0m\u001b[0;34m.\u001b[0m\u001b[0m_try_read_compressed\u001b[0m\u001b[0;34m(\u001b[0m\u001b[0mself\u001b[0m\u001b[0;34m.\u001b[0m\u001b[0mname\u001b[0m\u001b[0;34m,\u001b[0m \u001b[0mmagic\u001b[0m\u001b[0;34m,\u001b[0m \u001b[0mmode\u001b[0m\u001b[0;34m,\u001b[0m \u001b[0mext\u001b[0m\u001b[0;34m=\u001b[0m\u001b[0mext\u001b[0m\u001b[0;34m)\u001b[0m\u001b[0;34m:\u001b[0m\u001b[0;34m\u001b[0m\u001b[0;34m\u001b[0m\u001b[0m\n\u001b[0;32m--> 651\u001b[0;31m             \u001b[0mself\u001b[0m\u001b[0;34m.\u001b[0m\u001b[0m_file\u001b[0m \u001b[0;34m=\u001b[0m \u001b[0mopen\u001b[0m\u001b[0;34m(\u001b[0m\u001b[0mself\u001b[0m\u001b[0;34m.\u001b[0m\u001b[0mname\u001b[0m\u001b[0;34m,\u001b[0m \u001b[0mIO_FITS_MODES\u001b[0m\u001b[0;34m[\u001b[0m\u001b[0mmode\u001b[0m\u001b[0;34m]\u001b[0m\u001b[0;34m)\u001b[0m\u001b[0;34m\u001b[0m\u001b[0;34m\u001b[0m\u001b[0m\n\u001b[0m\u001b[1;32m    652\u001b[0m             \u001b[0mself\u001b[0m\u001b[0;34m.\u001b[0m\u001b[0mclose_on_error\u001b[0m \u001b[0;34m=\u001b[0m \u001b[0;32mTrue\u001b[0m\u001b[0;34m\u001b[0m\u001b[0;34m\u001b[0m\u001b[0m\n\u001b[1;32m    653\u001b[0m \u001b[0;34m\u001b[0m\u001b[0m\n",
      "\u001b[0;31mFileNotFoundError\u001b[0m: [Errno 2] No such file or directory: '/home/sharonye/DESI/lab_machine/trim/data/241024_062326_positioner_matching/centroids_zwo_241024_062328.fits'"
     ]
    }
   ],
   "source": [
    "hdul = fits.open('/home/sharonye/DESI/lab_machine/trim/data/241024_062326_positioner_matching/centroids_zwo_241024_062328.fits')\n",
    "image = hdul[0].data\n",
    "X, Y, peaks, FWHM, _ = multicens.multiCens(image, n_centroids_to_keep=17, verbose=False, write_fits=False, size_fitbox=7)\n",
    "\n",
    "plt.plot(X, Y, 'o')"
   ]
  },
  {
   "cell_type": "code",
   "execution_count": 9,
   "id": "cce3a6e3",
   "metadata": {},
   "outputs": [
    {
     "ename": "NameError",
     "evalue": "name 'multicens' is not defined",
     "output_type": "error",
     "traceback": [
      "\u001b[0;31m---------------------------------------------------------------------------\u001b[0m",
      "\u001b[0;31mNameError\u001b[0m                                 Traceback (most recent call last)",
      "\u001b[0;32m/tmp/ipykernel_95/2254300896.py\u001b[0m in \u001b[0;36m<module>\u001b[0;34m\u001b[0m\n\u001b[1;32m      2\u001b[0m \u001b[0mim_a\u001b[0m \u001b[0;34m=\u001b[0m \u001b[0mfits\u001b[0m\u001b[0;34m.\u001b[0m\u001b[0mopen\u001b[0m\u001b[0;34m(\u001b[0m\u001b[0;34m'/home/sharonye/DESI/lab_machine/trim/data/241027_045108_positioner_matching/centroids_zwo_241027_045202.fits'\u001b[0m\u001b[0;34m)\u001b[0m\u001b[0;34m[\u001b[0m\u001b[0;36m0\u001b[0m\u001b[0;34m]\u001b[0m\u001b[0;34m.\u001b[0m\u001b[0mdata\u001b[0m\u001b[0;34m\u001b[0m\u001b[0;34m\u001b[0m\u001b[0m\n\u001b[1;32m      3\u001b[0m \u001b[0;34m\u001b[0m\u001b[0m\n\u001b[0;32m----> 4\u001b[0;31m \u001b[0mx_b\u001b[0m\u001b[0;34m,\u001b[0m \u001b[0my_b\u001b[0m\u001b[0;34m,\u001b[0m \u001b[0mp_b\u001b[0m\u001b[0;34m,\u001b[0m \u001b[0mf_b\u001b[0m\u001b[0;34m,\u001b[0m \u001b[0m_b\u001b[0m \u001b[0;34m=\u001b[0m \u001b[0mmulticens\u001b[0m\u001b[0;34m.\u001b[0m\u001b[0mmultiCens\u001b[0m\u001b[0;34m(\u001b[0m\u001b[0mim_b\u001b[0m\u001b[0;34m,\u001b[0m \u001b[0mn_centroids_to_keep\u001b[0m\u001b[0;34m=\u001b[0m\u001b[0;36m17\u001b[0m\u001b[0;34m,\u001b[0m \u001b[0mverbose\u001b[0m\u001b[0;34m=\u001b[0m\u001b[0;32mFalse\u001b[0m\u001b[0;34m,\u001b[0m \u001b[0mwrite_fits\u001b[0m\u001b[0;34m=\u001b[0m\u001b[0;32mFalse\u001b[0m\u001b[0;34m,\u001b[0m \u001b[0msize_fitbox\u001b[0m\u001b[0;34m=\u001b[0m\u001b[0;36m7\u001b[0m\u001b[0;34m)\u001b[0m\u001b[0;34m\u001b[0m\u001b[0;34m\u001b[0m\u001b[0m\n\u001b[0m\u001b[1;32m      5\u001b[0m \u001b[0mx_a\u001b[0m\u001b[0;34m,\u001b[0m \u001b[0my_a\u001b[0m\u001b[0;34m,\u001b[0m \u001b[0mp_a\u001b[0m\u001b[0;34m,\u001b[0m \u001b[0mf_a\u001b[0m\u001b[0;34m,\u001b[0m \u001b[0m_a\u001b[0m \u001b[0;34m=\u001b[0m \u001b[0mmulticens\u001b[0m\u001b[0;34m.\u001b[0m\u001b[0mmultiCens\u001b[0m\u001b[0;34m(\u001b[0m\u001b[0mim_a\u001b[0m\u001b[0;34m,\u001b[0m \u001b[0mn_centroids_to_keep\u001b[0m\u001b[0;34m=\u001b[0m\u001b[0;36m17\u001b[0m\u001b[0;34m,\u001b[0m \u001b[0mverbose\u001b[0m\u001b[0;34m=\u001b[0m\u001b[0;32mFalse\u001b[0m\u001b[0;34m,\u001b[0m \u001b[0mwrite_fits\u001b[0m\u001b[0;34m=\u001b[0m\u001b[0;32mFalse\u001b[0m\u001b[0;34m,\u001b[0m \u001b[0msize_fitbox\u001b[0m\u001b[0;34m=\u001b[0m\u001b[0;36m7\u001b[0m\u001b[0;34m)\u001b[0m\u001b[0;34m\u001b[0m\u001b[0;34m\u001b[0m\u001b[0m\n\u001b[1;32m      6\u001b[0m \u001b[0;34m\u001b[0m\u001b[0m\n",
      "\u001b[0;31mNameError\u001b[0m: name 'multicens' is not defined"
     ]
    }
   ],
   "source": [
    "im_b = fits.open('/home/sharonye/DESI/lab_machine/trim/data/241027_045108_positioner_matching/centroids_zwo_241027_045110.fits')[0].data\n",
    "im_a = fits.open('/home/sharonye/DESI/lab_machine/trim/data/241027_045108_positioner_matching/centroids_zwo_241027_045202.fits')[0].data\n",
    "\n",
    "x_b, y_b, p_b, f_b, _b = multicens.multiCens(im_b, n_centroids_to_keep=17, verbose=False, write_fits=False, size_fitbox=7)\n",
    "x_a, y_a, p_a, f_a, _a = multicens.multiCens(im_a, n_centroids_to_keep=17, verbose=False, write_fits=False, size_fitbox=7)\n",
    "\n",
    "plt.plot(x_b, y_b, 'bo')\n",
    "plt.plot(x_a, y_a, 'ro')"
   ]
  },
  {
   "cell_type": "code",
   "execution_count": 13,
   "id": "657e065e",
   "metadata": {},
   "outputs": [
    {
     "data": {
      "image/png": "[encoded data removed]",
      "text/plain": [
       "<Figure size 432x288 with 1 Axes>"
      ]
     },
     "metadata": {
      "needs_background": "light"
     },
     "output_type": "display_data"
    }
   ],
   "source": [
    "X, Y, ids = unpack_conf('/home/sharonye/DESI/lab_machine/trim/data/250228_065518_positioner_matching/positioners.conf')\n",
    "fig, ax = plt.subplots()\n",
    "ax.plot(X, Y, 'o')\n",
    "for i, label in enumerate(ids):\n",
    "    ax.text(X[i], Y[i], label)"
   ]
  },
  {
   "cell_type": "code",
   "execution_count": 76,
   "id": "12cf8dfb",
   "metadata": {},
   "outputs": [
    {
     "name": "stdout",
     "output_type": "stream",
     "text": [
      "[[(895.469985947106, 1753.9651304854217, '5249')], [(614.5668792073084, 1410.072942932587, '5232'), (863.4281554178565, 1459.8207311652934, '5228'), (1135.2316256915137, 1472.7722987086959, '5251'), (1446.5718547304011, 1461.4173981847484, '5250'), (1709.308274055617, 1473.4909619135651, '5231'), (2072.3725807336355, 1346.3661472642607, '5234')], [(399.8395088399552, 1070.4628439783896, '5256'), (682.3118146157329, 1024.768285851694, '5227'), (971.202489590738, 1029.9500569433274, '5229'), (1362.5438691376921, 913.8465560720425, '5226'), (1783.1849139483259, 998.4255377638665, '5230'), (2077.5312943431536, 1022.5268471923464, '5248')]]\n"
     ]
    },
    {
     "data": {
      "image/png": "[encoded data removed]",
      "text/plain": [
       "<Figure size 432x288 with 1 Axes>"
      ]
     },
     "metadata": {
      "needs_background": "light"
     },
     "output_type": "display_data"
    }
   ],
   "source": [
    "points = list(zip(X, Y, ids))\n",
    "points = sorted(points, key=lambda x:x[1], reverse=True)\n",
    "split = []\n",
    "prev = 0\n",
    "for i in range(len(points) - 1):\n",
    "    if abs(points[i][1]-points[i+1][1]) > 100:\n",
    "        split.append(points[prev:i+1])\n",
    "        prev = i + 1\n",
    "split.append(points[prev:])\n",
    "for i in range(len(split)):\n",
    "    split[i] = sorted(split[i], key=lambda x:x[0])\n",
    "\n",
    "fig, ax = plt.subplots()\n",
    "counter = 0\n",
    "for row in split:\n",
    "    for point in row:\n",
    "        plt.plot(point[0], point[1], 'bo')\n",
    "        ax.text(point[0], point[1], f\"{point[2]}({counter})\")\n",
    "        counter = counter + 1\n",
    "\n",
    "print(split)"
   ]
  },
  {
   "cell_type": "code",
   "execution_count": 39,
   "id": "a02cdf61",
   "metadata": {},
   "outputs": [
    {
     "data": {
      "image/png": "[encoded data removed]",
      "text/plain": [
       "<Figure size 432x288 with 1 Axes>"
      ]
     },
     "metadata": {
      "needs_background": "light"
     },
     "output_type": "display_data"
    }
   ],
   "source": [
    "X, Y, ids = unpack_conf('/home/sharonye/DESI/lab_machine/trim/data/241027_065258_positioner_matching/positioners.conf')\n",
    "fig, ax = plt.subplots()\n",
    "ax.plot(X, Y, 'o')\n",
    "for i, label in enumerate(ids):\n",
    "    ax.text(X[i], Y[i], label)"
   ]
  },
  {
   "cell_type": "code",
   "execution_count": 40,
   "id": "1befc0c4",
   "metadata": {},
   "outputs": [
    {
     "name": "stdout",
     "output_type": "stream",
     "text": [
      "peak = 85448.93526051767 brightness appears out of expected range\n",
      "peak = 97585.81251408171 brightness appears out of expected range\n",
      "peak = 70816.4466304986 brightness appears out of expected range\n",
      "peak = 66548.58269725139 brightness appears out of expected range\n",
      "peak = 85403.87828180812 brightness appears out of expected range\n",
      "peak = 97822.90751117568 brightness appears out of expected range\n",
      "peak = 70877.72438284577 brightness appears out of expected range\n",
      "peak = 66508.86274907594 brightness appears out of expected range\n"
     ]
    },
    {
     "data": {
      "text/plain": [
       "[<matplotlib.lines.Line2D at 0x7fc8414e7730>]"
      ]
     },
     "execution_count": 40,
     "metadata": {},
     "output_type": "execute_result"
    },
    {
     "data": {
      "image/png": "[encoded data removed]",
      "text/plain": [
       "<Figure size 432x288 with 1 Axes>"
      ]
     },
     "metadata": {
      "needs_background": "light"
     },
     "output_type": "display_data"
    }
   ],
   "source": [
    "im_b = fits.open('/home/sharonye/DESI/lab_machine/trim/data/241027_065258_positioner_matching/centroids_zwo_241027_065300.fits')[0].data\n",
    "im_a = fits.open('/home/sharonye/DESI/lab_machine/trim/data/241027_065258_positioner_matching/centroids_zwo_241027_065354.fits')[0].data\n",
    "\n",
    "x_b, y_b, p_b, f_b, _b = multicens.multiCens(im_b, n_centroids_to_keep=17, verbose=False, write_fits=False, size_fitbox=7)\n",
    "x_a, y_a, p_a, f_a, _a = multicens.multiCens(im_a, n_centroids_to_keep=17, verbose=False, write_fits=False, size_fitbox=7)\n",
    "\n",
    "plt.plot(x_b, y_b, 'bo')\n",
    "plt.plot(x_a, y_a, 'ro')"
   ]
  },
  {
   "cell_type": "code",
   "execution_count": 96,
   "id": "659e3031",
   "metadata": {},
   "outputs": [
    {
     "name": "stdout",
     "output_type": "stream",
     "text": [
      "744.6567879632406 1666.505274556511 57.43611271226688 0.3283488137455005\n",
      "radius in microns: 2957.110989027505, error in microns = 42.889010972494816\n",
      "std in microns: 16.905111427458984\n"
     ]
    },
    {
     "data": {
      "image/png": "[encoded data removed]",
      "text/plain": [
       "<Figure size 432x288 with 1 Axes>"
      ]
     },
     "metadata": {
      "needs_background": "light"
     },
     "output_type": "display_data"
    }
   ],
   "source": [
    "from circle_fit import standardLSQ\n",
    "\n",
    "points = [[(696.5601421602892, 1633.180610010587)], [(691.7990352557472, 1644.7385170969008)], [(688.1726032248212, 1658.1890629834986)], [(687.7795513754415, 1672.0599660625533)], [(690.7892969601897, 1685.672497042194)], [(697.0711969174356, 1698.2849864511181)], [(706.038620576752, 1708.8652037382942)], [(717.3494748038747, 1717.071049638923)], [(730.209521038704, 1722.2741330219008)], [(743.9361845584666, 1724.22984669389)], [(757.7929624253586, 1722.6992844849467)], [(770.7843388668564, 1717.9717308297188)], [(782.2704818987581, 1710.2200024106567)], [(791.4707901514604, 1699.8071259975766)], [(795.3449681319933, 1693.1846768040507)], [(795.3349404529482, 1693.193186455445)], [(795.3395519627711, 1693.195384625936)], [(795.291363843944, 1693.1721301409939)], [(795.3018085799033, 1693.155730589266)]]\n",
    "mpp = 51.48522156855406\n",
    "points_list = []\n",
    "points_x = []\n",
    "points_y = []\n",
    "for point in points:\n",
    "    points_x.append(point[0][0])\n",
    "    points_y.append(point[0][1])\n",
    "    points_list.append(list(point[0]))\n",
    "ax = plt.gca()\n",
    "ax.set_aspect('equal')\n",
    "plt.grid()\n",
    "plt.plot(points_x, points_y, 'o')\n",
    "\n",
    "x, y, r, s = standardLSQ(points_list)\n",
    "circ_approx = plt.Circle((x, y), r, color='r', fill=False)\n",
    "ax.add_patch(circ_approx)\n",
    "print(x, y, r, s)\n",
    "print(f\"radius in microns: {r * mpp}, error in microns = {abs(3000 - r * mpp)}\")\n",
    "\n",
    "print(f\"std in microns: {s * mpp}\")"
   ]
  },
  {
   "cell_type": "code",
   "execution_count": 99,
   "id": "552da011",
   "metadata": {},
   "outputs": [
    {
     "name": "stdout",
     "output_type": "stream",
     "text": [
      "744.6607666648971 1666.9778153751467 57.125769473550655 0.11951856567805037\n",
      "radius in microns: 2941.1328986198973, error in microns = 58.86710138010267\n",
      "std in microns: 6.153439835490204\n"
     ]
    },
    {
     "data": {
      "image/png": "[encoded data removed]",
      "text/plain": [
       "<Figure size 432x288 with 1 Axes>"
      ]
     },
     "metadata": {
      "needs_background": "light"
     },
     "output_type": "display_data"
    }
   ],
   "source": [
    "points = [[(691.7990352557472, 1644.7385170969008)], [(688.1726032248212, 1658.1890629834986)], [(687.7795513754415, 1672.0599660625533)], [(690.7892969601897, 1685.672497042194)], [(697.0711969174356, 1698.2849864511181)], [(706.038620576752, 1708.8652037382942)], [(717.3494748038747, 1717.071049638923)], [(730.209521038704, 1722.2741330219008)], [(743.9361845584666, 1724.22984669389)], [(757.7929624253586, 1722.6992844849467)], [(770.7843388668564, 1717.9717308297188)], [(782.2704818987581, 1710.2200024106567)], [(791.4707901514604, 1699.8071259975766)], [(795.3449681319933, 1693.1846768040507)], [(795.3349404529482, 1693.193186455445)], [(795.3395519627711, 1693.195384625936)], [(795.291363843944, 1693.1721301409939)], [(795.3018085799033, 1693.155730589266)]]\n",
    "mpp = 51.48522156855406\n",
    "points_list = []\n",
    "points_x = []\n",
    "points_y = []\n",
    "for point in points:\n",
    "    points_x.append(point[0][0])\n",
    "    points_y.append(point[0][1])\n",
    "    points_list.append(list(point[0]))\n",
    "ax = plt.gca()\n",
    "ax.set_aspect('equal')\n",
    "plt.grid()\n",
    "plt.plot(points_x, points_y, 'o')\n",
    "\n",
    "x, y, r, s = standardLSQ(points_list)\n",
    "circ_approx = plt.Circle((x, y), r, color='r', fill=False)\n",
    "ax.add_patch(circ_approx)\n",
    "print(x, y, r, s)\n",
    "print(f\"radius in microns: {r * mpp}, error in microns = {abs(3000 - r * mpp)}\")\n",
    "\n",
    "print(f\"std in microns: {s * mpp}\")"
   ]
  },
  {
   "cell_type": "code",
   "execution_count": 97,
   "id": "1ec3eb25",
   "metadata": {},
   "outputs": [
    {
     "name": "stdout",
     "output_type": "stream",
     "text": [
      "564.5850991300555 1026.3324419839964 59.33149217407686 0.42732129167500343\n",
      "radius in microns: 3054.6950205752782, error in microns = 54.69502057527825\n",
      "std in microns: 22.00073138284827\n"
     ]
    },
    {
     "data": {
      "image/png": "[encoded data removed]",
      "text/plain": [
       "<Figure size 432x288 with 1 Axes>"
      ]
     },
     "metadata": {
      "needs_background": "light"
     },
     "output_type": "display_data"
    }
   ],
   "source": [
    "points = [[(624.98229088435, 1019.3709526404751)], [(620.0574770342212, 1007.5024511287272)], [(613.8846572138624, 994.4600824627441)], [(604.7936321232869, 983.2847339435745)], [(593.4383487748909, 974.5887683805166)], [(580.2063924695889, 969.0612810852773)], [(566.0001715073352, 966.8369975967054)], [(551.7254155399272, 968.2021865504557)], [(538.2549314506333, 972.9534205989493)], [(526.2923445327119, 980.8309364545427)], [(516.453615025489, 991.5501437093991)], [(509.5380884812308, 1004.1674124537901)], [(505.8600668068472, 1018.2219437128554)], [(505.6211161211137, 1032.6513010345247)], [(507.7601425191276, 1042.7488347224487)], [(507.5966731491512, 1042.5478160636633)], [(507.5633942948835, 1042.6611479945097)], [(507.5635494441555, 1042.6453323577316)], [(507.5649474612587, 1042.7332536637998)]]\n",
    "mpp = 51.48522156855406\n",
    "points_list = []\n",
    "points_x = []\n",
    "points_y = []\n",
    "for point in points:\n",
    "    points_x.append(point[0][0])\n",
    "    points_y.append(point[0][1])\n",
    "    points_list.append(list(point[0]))\n",
    "ax = plt.gca()\n",
    "ax.set_aspect('equal')\n",
    "plt.grid()\n",
    "plt.plot(points_x, points_y, 'o')\n",
    "\n",
    "x, y, r, s = standardLSQ(points_list)\n",
    "circ_approx = plt.Circle((x, y), r, color='r', fill=False)\n",
    "ax.add_patch(circ_approx)\n",
    "print(x, y, r, s)\n",
    "print(f\"radius in microns: {r * mpp}, error in microns = {abs(3000 - r * mpp)}\")\n",
    "\n",
    "print(f\"std in microns: {s * mpp}\")"
   ]
  },
  {
   "cell_type": "code",
   "execution_count": 98,
   "id": "166a1c92",
   "metadata": {},
   "outputs": [
    {
     "name": "stdout",
     "output_type": "stream",
     "text": [
      "564.1629499108152 1025.8826937399338 58.930453953049636 0.10222617868069651\n",
      "radius in microns: 3034.047478908233, error in microns = 34.04747890823319\n",
      "std in microns: 5.263137459482257\n"
     ]
    },
    {
     "data": {
      "image/png": "[encoded data removed]",
      "text/plain": [
       "<Figure size 432x288 with 1 Axes>"
      ]
     },
     "metadata": {
      "needs_background": "light"
     },
     "output_type": "display_data"
    }
   ],
   "source": [
    "points = [[(620.0574770342212, 1007.5024511287272)], [(613.8846572138624, 994.4600824627441)], [(604.7936321232869, 983.2847339435745)], [(593.4383487748909, 974.5887683805166)], [(580.2063924695889, 969.0612810852773)], [(566.0001715073352, 966.8369975967054)], [(551.7254155399272, 968.2021865504557)], [(538.2549314506333, 972.9534205989493)], [(526.2923445327119, 980.8309364545427)], [(516.453615025489, 991.5501437093991)], [(509.5380884812308, 1004.1674124537901)], [(505.8600668068472, 1018.2219437128554)], [(505.6211161211137, 1032.6513010345247)], [(507.7601425191276, 1042.7488347224487)], [(507.5966731491512, 1042.5478160636633)], [(507.5633942948835, 1042.6611479945097)], [(507.5635494441555, 1042.6453323577316)], [(507.5649474612587, 1042.7332536637998)]]\n",
    "mpp = 51.48522156855406\n",
    "points_list = []\n",
    "points_x = []\n",
    "points_y = []\n",
    "for point in points:\n",
    "    points_x.append(point[0][0])\n",
    "    points_y.append(point[0][1])\n",
    "    points_list.append(list(point[0]))\n",
    "ax = plt.gca()\n",
    "ax.set_aspect('equal')\n",
    "plt.grid()\n",
    "plt.plot(points_x, points_y, 'o')\n",
    "\n",
    "x, y, r, s = standardLSQ(points_list)\n",
    "circ_approx = plt.Circle((x, y), r, color='r', fill=False)\n",
    "ax.add_patch(circ_approx)\n",
    "print(x, y, r, s)\n",
    "print(f\"radius in microns: {r * mpp}, error in microns = {abs(3000 - r * mpp)}\")\n",
    "\n",
    "print(f\"std in microns: {s * mpp}\")"
   ]
  },
  {
   "cell_type": "code",
   "execution_count": 110,
   "id": "9c1a17ff",
   "metadata": {},
   "outputs": [
    {
     "name": "stdout",
     "output_type": "stream",
     "text": [
      "[['a', 1], ['b', 2], ['c', 3]]\n"
     ]
    },
    {
     "data": {
      "text/plain": [
       "[['a', 'b', 'c'], [1, 2, 3]]"
      ]
     },
     "execution_count": 110,
     "metadata": {},
     "output_type": "execute_result"
    }
   ],
   "source": [
    "def listify(zip_obj):\n",
    "    list_obj = []\n",
    "    for obj in zip_obj:\n",
    "        list_obj.append(list(obj))\n",
    "    return list_obj\n",
    "\n",
    "test1 = ['a', 'b', 'c']\n",
    "test2 = [1, 2, 3]\n",
    "\n",
    "obj = zip(test1, test2)\n",
    "l = listify(obj)\n",
    "print(l)\n",
    "\n",
    "[list(t) for t in zip(*l)]"
   ]
  },
  {
   "cell_type": "code",
   "execution_count": 112,
   "id": "c163d5be",
   "metadata": {},
   "outputs": [
    {
     "name": "stdout",
     "output_type": "stream",
     "text": [
      "0\n",
      "a\n",
      "1\n",
      "b\n",
      "2\n",
      "c\n"
     ]
    }
   ],
   "source": [
    "for i, v in enumerate(test1):\n",
    "    print(i)\n",
    "    print(v)"
   ]
  },
  {
   "cell_type": "code",
   "execution_count": 10,
   "id": "56dcabe9",
   "metadata": {},
   "outputs": [
    {
     "name": "stdout",
     "output_type": "stream",
     "text": [
      "737.3735243790944 1684.2266611254006 57.09350989715904 0.11544093595949169\n",
      "radius in microns: 2939.4720071816673, error in microns = 60.52799281833268\n",
      "std in microns: 5.94350216595569\n"
     ]
    },
    {
     "data": {
      "image/png": "[encoded data removed]",
      "text/plain": [
       "<Figure size 432x288 with 1 Axes>"
      ]
     },
     "metadata": {
      "needs_background": "light"
     },
     "output_type": "display_data"
    }
   ],
   "source": [
    "points = [[680.2893058135672, 1679.526700795112], [680.9219548327292, 1693.400343220855], [684.911220607716, 1706.7110538504091], [692.0575366408917, 1718.708785458236], [701.8541181884025, 1728.7122883489556], [713.7243933525726, 1736.0517059154654], [726.9896139653958, 1740.3362151068989], [740.8179539810739, 1741.2589304359806], [754.5362804039105, 1738.7489551694632], [767.2892407174446, 1733.0503018239754], [778.1117762061101, 1724.447536241423], [786.52767143764, 1713.5386369103521], [792.0486940428646, 1700.772468117716], [793.6536355725191, 1693.2314221183283], [793.6530871580271, 1693.2354593387402], [793.6494428780236, 1693.2241664971273], [793.6604563305264, 1693.2399606588967]]\n",
    "\n",
    "mpp = 51.48522156855406\n",
    "points_x = []\n",
    "points_y = []\n",
    "for point in points:\n",
    "    points_x.append(point[0])\n",
    "    points_y.append(point[1])\n",
    "ax = plt.gca()\n",
    "ax.set_aspect('equal')\n",
    "plt.grid()\n",
    "plt.plot(points_x, points_y, 'o')\n",
    "\n",
    "x, y, r, s = standardLSQ(points)\n",
    "circ_approx = plt.Circle((x, y), r, color='r', fill=False)\n",
    "ax.add_patch(circ_approx)\n",
    "print(x, y, r, s)\n",
    "print(f\"radius in microns: {r * mpp}, error in microns = {abs(3000 - r * mpp)}\")\n",
    "\n",
    "print(f\"std in microns: {s * mpp}\")"
   ]
  },
  {
   "cell_type": "code",
   "execution_count": 27,
   "id": "18a18668",
   "metadata": {},
   "outputs": [
    {
     "name": "stdout",
     "output_type": "stream",
     "text": [
      "0\n",
      "1\n",
      "2\n"
     ]
    }
   ],
   "source": [
    "class Test:\n",
    "    def __init__(self):\n",
    "        self.a = 0\n",
    "        self.b = 1\n",
    "        self.c = 2\n",
    "    \n",
    "    def flush(self):\n",
    "        for a, v in vars(self).items():\n",
    "            print(v)\n",
    "            \n",
    "test = Test()\n",
    "test.flush()\n",
    "    "
   ]
  },
  {
   "cell_type": "code",
   "execution_count": 13,
   "id": "9ee1091e",
   "metadata": {},
   "outputs": [
    {
     "name": "stdout",
     "output_type": "stream",
     "text": [
      "{'dist_0_1': 19.61778084851742, 'dist_0_2': 16.322614883056996, 'dist_0_3': 26.052538308216644, 'dist_1_2': 16.276675645621125, 'dist_1_3': 32.568319031988615, 'dist_2_3': 16.291644391361952}\n"
     ]
    }
   ],
   "source": [
    "# Fiducial calibration with rotational orientation\n",
    "\n",
    "a = [1366.2008558723878, 1355.3859652773745]\n",
    "b = [1368.1142873916606, 1335.8617212397296]\n",
    "c = [1380.1170283450765, 1346.8555549513130]\n",
    "d = [1392.1362734218350, 1357.8535286173758]\n",
    "\n",
    "points = []\n",
    "points.append(a)\n",
    "points.append(b)\n",
    "points.append(c)\n",
    "points.append(d)\n",
    "\n",
    "distances = {}\n",
    "\n",
    "for i in range(4):\n",
    "    for j in range(i + 1, 4):\n",
    "        distances[f'dist_{i}_{j}'] = distance(points[i], points[j])\n",
    "        \n",
    "print(distances)"
   ]
  },
  {
   "cell_type": "code",
   "execution_count": 18,
   "id": "7098abd2",
   "metadata": {},
   "outputs": [],
   "source": [
    "def camera_scale_from_fiducial(fiducials):\n",
    "    distances = []\n",
    "    for i in range(4):\n",
    "        for j in range(i + 1, 4):\n",
    "            distances.append(distance(fiducials[i], fiducials[j]))\n",
    "    distances = sorted(distances)\n",
    "    pixels = []\n",
    "    for i in range(3):\n",
    "        pixels.append(1000 / distances[i])\n",
    "    pixels.append(1200 / distances[3])\n",
    "    pixels.append(1600 / distances[4])\n",
    "    pixels.append(2000 / distances[5])\n",
    "    return np.mean(pixels)"
   ]
  },
  {
   "cell_type": "code",
   "execution_count": 19,
   "id": "e002cd08",
   "metadata": {},
   "outputs": [
    {
     "name": "stdout",
     "output_type": "stream",
     "text": [
      "[16.276675645621125, 16.291644391361952, 16.322614883056996, 19.61778084851742, 26.052538308216644, 32.568319031988615]\n"
     ]
    },
    {
     "data": {
      "text/plain": [
       "61.34603157602081"
      ]
     },
     "execution_count": 19,
     "metadata": {},
     "output_type": "execute_result"
    }
   ],
   "source": [
    "camera_scale_from_fiducial(points)"
   ]
  },
  {
   "cell_type": "code",
   "execution_count": null,
   "id": "98e97d61",
   "metadata": {},
   "outputs": [],
   "source": []
  }
 ],
 "metadata": {
  "kernelspec": {
   "display_name": "Python 3 (ipykernel)",
   "language": "python",
   "name": "python3"
  },
  "language_info": {
   "codemirror_mode": {
    "name": "ipython",
    "version": 3
   },
   "file_extension": ".py",
   "mimetype": "text/x-python",
   "name": "python",
   "nbconvert_exporter": "python",
   "pygments_lexer": "ipython3",
   "version": "3.10.12"
  }
 },
 "nbformat": 4,
 "nbformat_minor": 5
}
